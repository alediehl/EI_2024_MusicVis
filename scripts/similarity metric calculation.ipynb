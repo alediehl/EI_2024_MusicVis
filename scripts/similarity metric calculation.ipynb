{
 "cells": [
  {
   "cell_type": "code",
   "execution_count": null,
   "id": "f29311e2",
   "metadata": {},
   "outputs": [],
   "source": [
    "import numpy as np\n",
    "import pandas as pd\n",
    "import psycopg2\n",
    "import json"
   ]
  },
  {
   "cell_type": "code",
   "execution_count": null,
   "id": "6e9d1557",
   "metadata": {},
   "outputs": [],
   "source": [
    "#get classification data from database\n",
    "cs = \"dbname=%s user=%s password=%s host=%s port=%s\" % (\"FilmColors_v2_Production\",\"ERCAdmin\",\"admin\",\"localhost\",\"5432\")\n",
    "conn = psycopg2.connect(cs)\n",
    "cur = conn.cursor()\n",
    "\n",
    "cur.execute(\"SELECT id, video_id, classification_object, analysis_class_name, uuid, dtype, shape, data FROM public.db_concert_analyses where analysis_class_name='ClassificationAnalysis';\")\n",
    "recs = cur.fetchall()\n",
    "\n",
    "cur.close()\n",
    "conn.close()"
   ]
  },
  {
   "cell_type": "code",
   "execution_count": null,
   "id": "a2eea946",
   "metadata": {},
   "outputs": [],
   "source": [
    "indexes =[]\n",
    "for row in recs:\n",
    "    indexes.append(row[1])\n",
    "column_num = len(np.frombuffer(row[7], dtype=np.float64))\n",
    "\n",
    "df = pd.DataFrame(columns = list(range(column_num)), index = indexes)\n",
    "\n",
    "for row in recs:\n",
    "    df.loc[row[1]] = np.frombuffer(row[7], dtype=np.float64)"
   ]
  },
  {
   "cell_type": "code",
   "execution_count": null,
   "id": "a62e9cc2",
   "metadata": {},
   "outputs": [],
   "source": [
    "cov_mat_classification = np.cov(df.to_numpy(dtype=np.float64), rowvar=False, bias= True)\n",
    "inv_covmat_classification = np.linalg.pinv(cov_mat_classification)"
   ]
  },
  {
   "cell_type": "code",
   "execution_count": null,
   "id": "60916061",
   "metadata": {},
   "outputs": [],
   "source": [
    "#form distance matrix for classification analysis\n",
    "distance_matrix_classification = pd.DataFrame(columns = indexes, index = indexes)\n",
    "\n",
    "for index1 in indexes:\n",
    "    for index2 in indexes:\n",
    "        mu = df.loc[index1]-df.loc[index2]\n",
    "        left = np.dot(mu, inv_covmat_classification)\n",
    "        distance_matrix_classification.loc[index1, index2] = np.dot(left, mu.T)"
   ]
  },
  {
   "cell_type": "code",
   "execution_count": null,
   "id": "c6add69e",
   "metadata": {},
   "outputs": [],
   "source": [
    "distance_matrix_classification"
   ]
  },
  {
   "cell_type": "code",
   "execution_count": null,
   "id": "60981b54",
   "metadata": {},
   "outputs": [],
   "source": [
    "#get visual features from database\n",
    "cs = \"dbname=%s user=%s password=%s host=%s port=%s\" % (\"FilmColors_v2_Production\",\"ERCAdmin\",\"admin\",\"localhost\",\"5432\")\n",
    "conn = psycopg2.connect(cs)\n",
    "cur = conn.cursor()\n",
    "\n",
    "cur.execute(\"SELECT id, video_id, classification_object, analysis_class_name, uuid, dtype, shape, data FROM public.db_concert_analyses where analysis_class_name='MusicAnalysis';\")\n",
    "recs = cur.fetchall()\n",
    "\n",
    "cur.close()\n",
    "conn.close()"
   ]
  },
  {
   "cell_type": "code",
   "execution_count": null,
   "id": "0bdc30ba",
   "metadata": {},
   "outputs": [],
   "source": [
    "data_dict ={}\n",
    "for row in recs:\n",
    "    if row[1] <= 589 and row[1] >= 569:\n",
    "        data_dict[row[1]] =''.join(chr(int(x, 2)) for x in row[7].tobytes().split())"
   ]
  },
  {
   "cell_type": "code",
   "execution_count": null,
   "id": "7ec96cb3",
   "metadata": {},
   "outputs": [],
   "source": [
    "#collect visual clutter data\n",
    "#also collect unique musical instruments list\n",
    "indexes =[]\n",
    "unique_instruments =[]\n",
    "clutter_scalars_dict = {}\n",
    "clutter_scalars_max = 0\n",
    "for (video_id, data) in data_dict.items():\n",
    "    indexes.append(video_id)\n",
    "    dictionary = json.loads(data)\n",
    "    clutter_scalars_dict[video_id] =dictionary[\"clutter_scalars\"] \n",
    "    if len(dictionary[\"clutter_scalars\"] ) > clutter_scalars_max:\n",
    "        clutter_scalars_max = len(dictionary[\"clutter_scalars\"] )\n",
    "    for instrument in dictionary[\"insty\"]:\n",
    "        if not (instrument in unique_instruments):\n",
    "            unique_instruments.append(instrument)"
   ]
  },
  {
   "cell_type": "code",
   "execution_count": null,
   "id": "9d70b9ee",
   "metadata": {},
   "outputs": [],
   "source": [
    "df_clutter_scalars = pd.DataFrame(columns = list(range(clutter_scalars_max)), index = indexes)\n",
    "\n",
    "for i in indexes:\n",
    "    df_clutter_scalars.loc[i] = np.pad(clutter_scalars_dict[i], (0, clutter_scalars_max - len(clutter_scalars_dict[i])), 'constant')\n",
    "    \n",
    "    "
   ]
  },
  {
   "cell_type": "code",
   "execution_count": null,
   "id": "2f5b03fd",
   "metadata": {},
   "outputs": [],
   "source": [
    "cov_mat_clutter = np.cov(df_clutter_scalars.to_numpy(dtype=np.float64), rowvar=False, bias= True)\n",
    "inv_covmat_clutter = np.linalg.pinv(cov_mat_clutter)"
   ]
  },
  {
   "cell_type": "code",
   "execution_count": null,
   "id": "79ec14f5",
   "metadata": {},
   "outputs": [],
   "source": [
    "distance_matrix_clutter = pd.DataFrame(columns = indexes, index = indexes)\n",
    "\n",
    "for index1 in indexes:\n",
    "    for index2 in indexes:\n",
    "        mu = df_clutter_scalars.loc[index1]-df_clutter_scalars.loc[index2]\n",
    "        left = np.dot(mu, inv_covmat_clutter)\n",
    "        distance_matrix_clutter.loc[index1, index2] = np.dot(left, mu.T)"
   ]
  },
  {
   "cell_type": "code",
   "execution_count": null,
   "id": "a3afd413",
   "metadata": {
    "scrolled": true
   },
   "outputs": [],
   "source": [
    "distance_matrix_clutter"
   ]
  },
  {
   "cell_type": "code",
   "execution_count": null,
   "id": "ff938047",
   "metadata": {},
   "outputs": [],
   "source": [
    "#collect camera data\n",
    "\n",
    "indexes =[]\n",
    "\n",
    "temp_dict = {\"Pan\": {}, \"Tilt\": {}}\n",
    "for (video_id, data) in data_dict.items():\n",
    "    indexes.append(video_id)\n",
    "    dictionary = json.loads(data)\n",
    "    for (index, motion) in enumerate(dictionary[\"camy\"]):\n",
    "        if video_id in temp_dict[motion]:\n",
    "            temp_dict[motion][video_id].append(dictionary[\"camx\"][index])\n",
    "        else:\n",
    "            temp_dict[motion][video_id] = [dictionary[\"camx\"][index]]"
   ]
  },
  {
   "cell_type": "code",
   "execution_count": null,
   "id": "fa4d7493",
   "metadata": {},
   "outputs": [],
   "source": [
    "motion_dict = {\"Pan\": {}, \"Tilt\": {}}\n",
    "max_value_dict = {\"Pan\": 0, \"Tilt\": 0}\n",
    "for motion in temp_dict:\n",
    "    for video in temp_dict[motion]:\n",
    "        temp = np.zeros(max(temp_dict[motion][video])+1)\n",
    "        temp[temp_dict[motion][video]] = 1\n",
    "        motion_dict[motion][video] = temp\n",
    "        if len(motion_dict[motion][video]) > max_value_dict[motion]:\n",
    "            max_value_dict[motion] = len(motion_dict[motion][video])"
   ]
  },
  {
   "cell_type": "code",
   "execution_count": null,
   "id": "69c29bab",
   "metadata": {},
   "outputs": [],
   "source": [
    "df_motions_dict = {\"Pan\": None, \"Tilt\": None}\n",
    "for motion in motion_dict:\n",
    "    df_motions_dict[motion] = pd.DataFrame(columns = list(range(max_value_dict[motion])), index = indexes)\n",
    "    for video in motion_dict[motion]:\n",
    "        df_motions_dict[motion].loc[video] =np.pad(motion_dict[motion][video], (0, max_value_dict[motion] - len(motion_dict[motion][video])), 'constant')\n",
    "    df_motions_dict[motion] = df_motions_dict[motion].fillna(0)\n",
    "    "
   ]
  },
  {
   "cell_type": "code",
   "execution_count": null,
   "id": "7527d1f1",
   "metadata": {},
   "outputs": [],
   "source": [
    "distance_matrix_motions_dict = {\"Pan\": None, \"Tilt\": None}\n",
    "for motion in df_motions_dict:\n",
    "    cov_mat_motion = np.cov(df_motions_dict[motion].to_numpy(dtype=np.float64), rowvar=False, bias= True)\n",
    "    inv_covmat_motion = np.linalg.pinv(cov_mat_motion)\n",
    "    distance_matrix_motions_dict[motion] = pd.DataFrame(columns = indexes, index = indexes)\n",
    "    for index1 in indexes:   \n",
    "        for index2 in indexes:\n",
    "            mu = df_motions_dict[motion].loc[index1]-df_motions_dict[motion].loc[index2]\n",
    "            left = np.dot(mu, inv_covmat_motion)\n",
    "            distance_matrix_motions_dict[motion].loc[index1, index2] = np.dot(left, mu.T)"
   ]
  },
  {
   "cell_type": "code",
   "execution_count": null,
   "id": "544202c7",
   "metadata": {},
   "outputs": [],
   "source": [
    "distance_matrix_motions_dict[\"Pan\"]\n",
    "distance_matrix_motions_dict[\"Tilt\"]"
   ]
  },
  {
   "cell_type": "code",
   "execution_count": null,
   "id": "3b9e9f9f",
   "metadata": {
    "scrolled": true
   },
   "outputs": [],
   "source": [
    "temp_dict = {}\n",
    "instruments_dict = {}\n",
    "max_value_dict = {}\n",
    "for instrument in unique_instruments:\n",
    "    temp_dict[instrument] = {}\n",
    "    instruments_dict[instrument] = {}\n",
    "    max_value_dict[instrument] = 0"
   ]
  },
  {
   "cell_type": "code",
   "execution_count": null,
   "id": "4932122c",
   "metadata": {},
   "outputs": [],
   "source": [
    "for (video_id, data) in data_dict.items():\n",
    "    dictionary = json.loads(data)\n",
    "    for (index, instrument) in enumerate(dictionary[\"insty\"]):\n",
    "        if video_id in temp_dict[instrument]:\n",
    "            temp_dict[instrument][video_id].append(dictionary[\"instx\"][index])\n",
    "        else:\n",
    "            temp_dict[instrument][video_id] = [dictionary[\"instx\"][index]]"
   ]
  },
  {
   "cell_type": "code",
   "execution_count": null,
   "id": "3a6aeec4",
   "metadata": {},
   "outputs": [],
   "source": [
    "for instrument in temp_dict:\n",
    "    for video in temp_dict[instrument]:\n",
    "        temp = np.zeros(max(temp_dict[instrument][video])+1)\n",
    "        temp[temp_dict[instrument][video]] = 1\n",
    "        instruments_dict[instrument][video] = temp"
   ]
  },
  {
   "cell_type": "code",
   "execution_count": null,
   "id": "d440c117",
   "metadata": {},
   "outputs": [],
   "source": [
    "for instrument in instruments_dict:\n",
    "    for video in instruments_dict[instrument]:\n",
    "        if len(instruments_dict[instrument][video]) > max_value_dict[instrument]:\n",
    "            max_value_dict[instrument] = len(instruments_dict[instrument][video])"
   ]
  },
  {
   "cell_type": "code",
   "execution_count": null,
   "id": "d48f2bc2",
   "metadata": {},
   "outputs": [],
   "source": [
    "df_instruments_dict = dict.fromkeys(unique_instruments)\n",
    "for instrument in instruments_dict:\n",
    "    df_instruments_dict[instrument] = pd.DataFrame(columns = list(range(max_value_dict[instrument])), index = indexes)\n",
    "    for video in instruments_dict[instrument]:\n",
    "        df_instruments_dict[instrument].loc[video] =np.pad(instruments_dict[instrument][video], (0, max_value_dict[instrument] - len(instruments_dict[instrument][video])), 'constant')\n",
    "    df_instruments_dict[instrument] = df_instruments_dict[instrument].fillna(0)"
   ]
  },
  {
   "cell_type": "code",
   "execution_count": null,
   "id": "85f63b21",
   "metadata": {},
   "outputs": [],
   "source": [
    "distance_matrix_instruments_dict = dict.fromkeys(unique_instruments)\n",
    "for instrument in df_instruments_dict:\n",
    "    cov_mat_instrument = np.cov(df_instruments_dict[instrument].to_numpy(dtype=np.float64), rowvar=False, bias= True)\n",
    "    print(instrument)\n",
    "    print(cov_mat_instrument)\n",
    "    inv_covmat_instrument = np.linalg.pinv(cov_mat_instrument)\n",
    "    distance_matrix_instruments_dict[instrument] = pd.DataFrame(columns = indexes, index = indexes)\n",
    "    for index1 in indexes:\n",
    "        for index2 in indexes:\n",
    "            mu = df_instruments_dict[instrument].loc[index1]-df_instruments_dict[instrument].loc[index2]\n",
    "            left = np.dot(mu, inv_covmat_instrument)\n",
    "            distance_matrix_instruments_dict[instrument].loc[index1, index2] = np.dot(left, mu.T)"
   ]
  },
  {
   "cell_type": "code",
   "execution_count": null,
   "id": "a87360f1",
   "metadata": {},
   "outputs": [],
   "source": [
    "indexes =[]\n",
    "unique_instruments =[]\n",
    "instruments_dict = {}\n",
    "clutter_scalars_max = 0\n",
    "for (video_id, data) in data_dict.items():\n",
    "    indexes.append(video_id)\n",
    "    dictionary = json.loads(data)\n",
    "    clutter_scalars_dict[video_id] =dictionary[\"clutter_scalars\"] \n",
    "    if len(dictionary[\"clutter_scalars\"] ) > clutter_scalars_max:\n",
    "        clutter_scalars_max = len(dictionary[\"clutter_scalars\"] )\n",
    "    for instrument in dictionary[\"insty\"]:\n",
    "        if not (instrument in unique_instruments):\n",
    "            unique_instruments.append(instrument)"
   ]
  },
  {
   "cell_type": "code",
   "execution_count": null,
   "id": "feacbcdb",
   "metadata": {},
   "outputs": [],
   "source": []
  },
  {
   "cell_type": "code",
   "execution_count": null,
   "id": "41f73f4c",
   "metadata": {},
   "outputs": [],
   "source": [
    "import math\n",
    "final_distance_matrix = pd.DataFrame(columns = indexes, index = indexes)\n",
    "\n",
    "for index1 in indexes:\n",
    "    for index2 in indexes:\n",
    "   \n",
    "        final_distance_matrix.loc[index1, index2]= math.sqrt(distance_matrix_clutter.loc[index1, index2]) +\\\n",
    "    math.sqrt(distance_matrix_classification.loc[index1, index2]) + \\\n",
    "    math.sqrt(distance_matrix_motions_dict[\"Pan\"].loc[index1, index2]) +\\\n",
    "    math.sqrt(distance_matrix_motions_dict[\"Tilt\"].loc[index1, index2])\n",
    "        \n",
    "\n",
    "final_distance_matrix"
   ]
  },
  {
   "cell_type": "code",
   "execution_count": null,
   "id": "d18f84c0",
   "metadata": {},
   "outputs": [],
   "source": [
    "from sklearn.manifold import MDS\n",
    "embedding = MDS(n_components=2, dissimilarity=\"precomputed\")\n",
    "X_transformed = embedding.fit_transform(final_distance_matrix)"
   ]
  },
  {
   "cell_type": "code",
   "execution_count": null,
   "id": "f1d21bf7",
   "metadata": {},
   "outputs": [],
   "source": [
    "location_df = pd.DataFrame(columns = [\"x\", \"y\"], index = indexes)\n",
    "\n",
    "for (n,i) in enumerate(indexes):\n",
    "    location_df.loc[i, \"x\"] = X_transformed[n][0]\n",
    "    location_df.loc[i, \"y\"] = X_transformed[n][1]"
   ]
  },
  {
   "cell_type": "code",
   "execution_count": null,
   "id": "06c65894",
   "metadata": {},
   "outputs": [],
   "source": [
    "location_dict = {}\n",
    "\n",
    "for (n,i) in enumerate(indexes):\n",
    "    location_dict[i] = list(X_transformed[n].astype(float))\n",
    "location_dict"
   ]
  },
  {
   "cell_type": "code",
   "execution_count": null,
   "id": "49c3b226",
   "metadata": {},
   "outputs": [],
   "source": [
    "from sklearn.cluster import KMeans\n",
    "import numpy as np\n",
    "kmeans = KMeans(n_clusters=3, random_state=0)\n",
    "location_df['cluster'] = kmeans.fit_predict(location_df[['x', 'y']])\n"
   ]
  },
  {
   "cell_type": "code",
   "execution_count": null,
   "id": "4b9473fa",
   "metadata": {},
   "outputs": [],
   "source": [
    "centroids = kmeans.cluster_centers_\n",
    "cen_x = [i[0] for i in centroids] \n",
    "cen_y = [i[1] for i in centroids]\n",
    "## add to df\n",
    "location_df['cen_x'] = location_df.cluster.map({0:cen_x[0], 1:cen_x[1], 2:cen_x[2]})\n",
    "location_df['cen_y'] = location_df.cluster.map({0:cen_y[0], 1:cen_y[1], 2:cen_y[2]})\n"
   ]
  },
  {
   "cell_type": "code",
   "execution_count": null,
   "id": "dd506e72",
   "metadata": {},
   "outputs": [],
   "source": [
    "location_df"
   ]
  },
  {
   "cell_type": "code",
   "execution_count": null,
   "id": "0912b036",
   "metadata": {},
   "outputs": [],
   "source": [
    "dumped_json_string = location_df.to_json()\n",
    "\n",
    "binary_data = ' '.join(format(ord(letter), 'b') for letter in dumped_json_string)"
   ]
  },
  {
   "cell_type": "code",
   "execution_count": null,
   "id": "421b35b4",
   "metadata": {},
   "outputs": [],
   "source": [
    "import uuid\n",
    "\n",
    "cs = \"dbname=%s user=%s password=%s host=%s port=%s\" % (\"FilmColors_v2_Production\",\"ERCAdmin\",\"admin\",\"localhost\",\"5432\")\n",
    "conn = psycopg2.connect(cs)\n",
    "cur = conn.cursor()\n",
    "\n",
    "cur.execute(\"INSERT INTO public.db_concert_analyses(video_id, classification_object, analysis_class_name, uuid, dtype, shape, data) VALUES (%s, %s, %s, %s, %s, %s, %s)\"\n",
    "            ,(1, 'Global', \"SimilarityAnalysis\",str(uuid.uuid1()), \"dict\", \"\",binary_data))\n",
    "conn.commit()\n",
    "cur.close()\n",
    "conn.close()\n",
    "\n"
   ]
  },
  {
   "cell_type": "code",
   "execution_count": null,
   "id": "9f2be500",
   "metadata": {},
   "outputs": [],
   "source": []
  },
  {
   "cell_type": "code",
   "execution_count": null,
   "id": "b15edf45",
   "metadata": {},
   "outputs": [],
   "source": []
  }
 ],
 "metadata": {
  "kernelspec": {
   "display_name": "Python 3 (ipykernel)",
   "language": "python",
   "name": "python3"
  },
  "language_info": {
   "codemirror_mode": {
    "name": "ipython",
    "version": 3
   },
   "file_extension": ".py",
   "mimetype": "text/x-python",
   "name": "python",
   "nbconvert_exporter": "python",
   "pygments_lexer": "ipython3",
   "version": "3.9.12"
  }
 },
 "nbformat": 4,
 "nbformat_minor": 5
}
